{
 "metadata": {
  "name": "Agrobacterium"
 },
 "nbformat": 3,
 "nbformat_minor": 0,
 "worksheets": [
  {
   "cells": [
    {
     "cell_type": "code",
     "collapsed": false,
     "input": [
      "%pylab inline\n",
      "from analyze_test import pathens\n",
      "import matplotlib\n",
      "import matplotlib.pyplot as plt\n",
      "import numpy as np\n",
      "from IPython.display import HTML"
     ],
     "language": "python",
     "metadata": {},
     "outputs": [
      {
       "output_type": "stream",
       "stream": "stdout",
       "text": [
        "\n",
        "Welcome to pylab, a matplotlib-based Python environment [backend: module://IPython.zmq.pylab.backend_inline].\n",
        "For more information, type 'help(pylab)'.\n"
       ]
      }
     ],
     "prompt_number": 31
    },
    {
     "cell_type": "code",
     "collapsed": false,
     "input": [
      "picklefile = '/trombone1/home/scalhoun/park2/scalhoun/cluster_output/agro/out.pickle'\n",
      "datafile = '/trombone1/home/scalhoun/park2/scalhoun/cluster_output/agro/agro_data.h5'\n",
      "enzs = ['T', 'E']\n",
      "ligands = ['1', '2']\n",
      "\n",
      "pE = pathens(datafile=datafile)\n",
      "pE.set_all_enzymes(enzs)\n",
      "pE.set_true_enzymes(enzs)\n",
      "pE.set_true_ligands(ligands)\n",
      "pE.set_true_path(startposition=1)\n",
      "pE.load_data_from_analysis_pickle(picklefile)\n",
      "pE.make_position_matrices(startposition=1)\n",
      "print 'Number of unique paths: %d' % len(pE.uniqpathstrs)\n",
      "print 'Number of clusters: %d' % np.max(pE.flatclusters)"
     ],
     "language": "python",
     "metadata": {},
     "outputs": [
      {
       "output_type": "stream",
       "stream": "stdout",
       "text": [
        "Number of unique paths: 16\n",
        "Number of clusters: 6\n"
       ]
      }
     ],
     "prompt_number": 32
    },
    {
     "cell_type": "code",
     "collapsed": false,
     "input": [
      "from analyze_test import pathstring_to_table\n",
      "pE.np_path_array.sort()\n",
      "pE.np_path_array = pE.np_path_array[::-1]"
     ],
     "language": "python",
     "metadata": {},
     "outputs": [],
     "prompt_number": 33
    },
    {
     "cell_type": "heading",
     "level": 2,
     "metadata": {},
     "source": [
      "Predictions"
     ]
    },
    {
     "cell_type": "markdown",
     "metadata": {},
     "source": [
      "Integrative pathway mapping incorporated scores from similarity calculation between compounds, docking scores, and similarity calculation between predicted transporter substrate to acetolactate. Filtering down all permutations of the 383 compounds (146,306 permutations) to these 16 predictions was done based on the similarity calculation between compounds and docking scores, but did not use similarity to acetolactate for filtering. Below T stands for transporter solute binding protein and E is the thiolase enzyme."
     ]
    },
    {
     "cell_type": "code",
     "collapsed": false,
     "input": [
      "htmltable = '<table>'\n",
      "for num, pred in enumerate(pE.np_path_array):\n",
      "    \n",
      "    htmltable += pathstring_to_table(pred['strrepr'], datafile=None, url='http://www.genome.jp/Fig/compound/%s.gif',\n",
      "                                     title=(' %d ' % (num+1)))\n",
      "htmltable+='</table>'\n",
      "HTML(htmltable)\n"
     ],
     "language": "python",
     "metadata": {},
     "outputs": [
      {
       "html": [
        "<table><tr><td style=\"font-size:1.5em\"><strong> 1 </strong></td><td style=\"padding: 15px\"><strong>T</strong></td><td><img src='http://www.genome.jp/Fig/compound/C14179.gif' alt='C14179_1'/></td><td style=\"padding: 15px\"><strong>E</strong></td><td><img src='http://www.genome.jp/Fig/compound/C19685.gif' alt='C19685'/></td></tr><tr><td style=\"font-size:1.5em\"><strong> 2 </strong></td><td style=\"padding: 15px\"><strong>T</strong></td><td><img src='http://www.genome.jp/Fig/compound/C06029.gif' alt='C06029_2'/></td><td style=\"padding: 15px\"><strong>E</strong></td><td><img src='http://www.genome.jp/Fig/compound/C06027.gif' alt='C06027'/></td></tr><tr><td style=\"font-size:1.5em\"><strong> 3 </strong></td><td style=\"padding: 15px\"><strong>T</strong></td><td><img src='http://www.genome.jp/Fig/compound/C00164.gif' alt='C00164_1'/></td><td style=\"padding: 15px\"><strong>E</strong></td><td><img src='http://www.genome.jp/Fig/compound/C03188.gif' alt='C03188'/></td></tr><tr><td style=\"font-size:1.5em\"><strong> 4 </strong></td><td style=\"padding: 15px\"><strong>T</strong></td><td><img src='http://www.genome.jp/Fig/compound/C00164.gif' alt='C00164_1'/></td><td style=\"padding: 15px\"><strong>E</strong></td><td><img src='http://www.genome.jp/Fig/compound/C00083.gif' alt='C00083'/></td></tr><tr><td style=\"font-size:1.5em\"><strong> 5 </strong></td><td style=\"padding: 15px\"><strong>T</strong></td><td><img src='http://www.genome.jp/Fig/compound/C00164.gif' alt='C00164_1'/></td><td style=\"padding: 15px\"><strong>E</strong></td><td><img src='http://www.genome.jp/Fig/compound/C00332.gif' alt='C00332'/></td></tr><tr><td style=\"font-size:1.5em\"><strong> 6 </strong></td><td style=\"padding: 15px\"><strong>T</strong></td><td><img src='http://www.genome.jp/Fig/compound/C00149.gif' alt='C00149_1'/></td><td style=\"padding: 15px\"><strong>E</strong></td><td><img src='http://www.genome.jp/Fig/compound/C04348.gif' alt='C04348'/></td></tr><tr><td style=\"font-size:1.5em\"><strong> 7 </strong></td><td style=\"padding: 15px\"><strong>T</strong></td><td><img src='http://www.genome.jp/Fig/compound/C00149.gif' alt='C00149_1'/></td><td style=\"padding: 15px\"><strong>E</strong></td><td><img src='http://www.genome.jp/Fig/compound/C20747.gif' alt='C20747'/></td></tr><tr><td style=\"font-size:1.5em\"><strong> 8 </strong></td><td style=\"padding: 15px\"><strong>T</strong></td><td><img src='http://www.genome.jp/Fig/compound/C16272.gif' alt='C16272_2'/></td><td style=\"padding: 15px\"><strong>E</strong></td><td><img src='http://www.genome.jp/Fig/compound/C16273.gif' alt='C16273'/></td></tr><tr><td style=\"font-size:1.5em\"><strong> 9 </strong></td><td style=\"padding: 15px\"><strong>T</strong></td><td><img src='http://www.genome.jp/Fig/compound/C04131.gif' alt='C04131_1'/></td><td style=\"padding: 15px\"><strong>E</strong></td><td><img src='http://www.genome.jp/Fig/compound/C06625.gif' alt='C06625'/></td></tr><tr><td style=\"font-size:1.5em\"><strong> 10 </strong></td><td style=\"padding: 15px\"><strong>T</strong></td><td><img src='http://www.genome.jp/Fig/compound/C04131.gif' alt='C04131_1'/></td><td style=\"padding: 15px\"><strong>E</strong></td><td><img src='http://www.genome.jp/Fig/compound/C03188.gif' alt='C03188'/></td></tr><tr><td style=\"font-size:1.5em\"><strong> 11 </strong></td><td style=\"padding: 15px\"><strong>T</strong></td><td><img src='http://www.genome.jp/Fig/compound/C04131.gif' alt='C04131_1'/></td><td style=\"padding: 15px\"><strong>E</strong></td><td><img src='http://www.genome.jp/Fig/compound/C00083.gif' alt='C00083'/></td></tr><tr><td style=\"font-size:1.5em\"><strong> 12 </strong></td><td style=\"padding: 15px\"><strong>T</strong></td><td><img src='http://www.genome.jp/Fig/compound/C00552.gif' alt='C00552_1'/></td><td style=\"padding: 15px\"><strong>E</strong></td><td><img src='http://www.genome.jp/Fig/compound/C06027.gif' alt='C06027'/></td></tr><tr><td style=\"font-size:1.5em\"><strong> 13 </strong></td><td style=\"padding: 15px\"><strong>T</strong></td><td><img src='http://www.genome.jp/Fig/compound/C05572.gif' alt='C05572_1'/></td><td style=\"padding: 15px\"><strong>E</strong></td><td><img src='http://www.genome.jp/Fig/compound/C20447.gif' alt='C20447'/></td></tr><tr><td style=\"font-size:1.5em\"><strong> 14 </strong></td><td style=\"padding: 15px\"><strong>T</strong></td><td><img src='http://www.genome.jp/Fig/compound/C04411.gif' alt='C04411_1'/></td><td style=\"padding: 15px\"><strong>E</strong></td><td><img src='http://www.genome.jp/Fig/compound/C06027.gif' alt='C06027'/></td></tr><tr><td style=\"font-size:1.5em\"><strong> 15 </strong></td><td style=\"padding: 15px\"><strong>T</strong></td><td><img src='http://www.genome.jp/Fig/compound/C04411.gif' alt='C04411_2'/></td><td style=\"padding: 15px\"><strong>E</strong></td><td><img src='http://www.genome.jp/Fig/compound/C06027.gif' alt='C06027'/></td></tr><tr><td style=\"font-size:1.5em\"><strong> 16 </strong></td><td style=\"padding: 15px\"><strong>T</strong></td><td><img src='http://www.genome.jp/Fig/compound/C02362.gif' alt='C02362_1'/></td><td style=\"padding: 15px\"><strong>E</strong></td><td><img src='http://www.genome.jp/Fig/compound/C06625.gif' alt='C06625'/></td></tr></table>"
       ],
       "output_type": "pyout",
       "prompt_number": 42,
       "text": [
        "<IPython.core.display.HTML at 0x541c510>"
       ]
      }
     ],
     "prompt_number": 42
    }
   ],
   "metadata": {}
  }
 ]
}